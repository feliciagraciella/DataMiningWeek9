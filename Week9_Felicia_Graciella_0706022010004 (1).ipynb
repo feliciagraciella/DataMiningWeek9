{
  "nbformat": 4,
  "nbformat_minor": 0,
  "metadata": {
    "colab": {
      "provenance": [],
      "collapsed_sections": []
    },
    "kernelspec": {
      "display_name": "Python 3",
      "language": "python",
      "name": "python3"
    },
    "language_info": {
      "codemirror_mode": {
        "name": "ipython",
        "version": 3
      },
      "file_extension": ".py",
      "mimetype": "text/x-python",
      "name": "python",
      "nbconvert_exporter": "python",
      "pygments_lexer": "ipython3",
      "version": "3.8.3"
    }
  },
  "cells": [
    {
      "cell_type": "markdown",
      "source": [
        "# **Association Rules Mining**\n",
        "Felicia Graciella\n",
        "0706022010004"
      ],
      "metadata": {
        "id": "c91lNL1yV2mT"
      }
    },
    {
      "cell_type": "markdown",
      "source": [
        "Dari berbagai metode dalam data mining, association rules mining merupakan metode yang paling menarik perhatian. Hal ini menjadi alasan kenapa topik ini banyak dipelajari (Moradi & Keyvanpour, 2015). Association rules mining adalah teknik data mining untuk menemukan sebuah asosiatif antara kombinasi item (Fauzy & Asror, 2016). Association rules mining bertujuan untuk mengekstraksi korelasi yang menarik, pola yang sering, asosiasi atau struktur kasual di antara kumpulan item dalam database transaksi dan repositori data lainnya (Ratner, 2017)."
      ],
      "metadata": {
        "id": "xG2qTqygFsCs"
      }
    },
    {
      "cell_type": "markdown",
      "source": [
        "Association rules mempunyai 2 bagian yaitu antecedent (if) dan consequent (then). Biasanya association rules ditulis sebagai A -> C, dimana A adalah antecedent dan C adalah consequent. Hal ini berarti jika A ada, maka C juga akan ada. Tetapi tidak dapat menjamin diperolehnya aturan asosiasi yang sesuai secara individual. Selain memiliki cakupan dan keandalan yang sesuai, aturan yang dihasilkan harus juga menarik dan dapat dipahami. Dengan cara ini, ARM menjadi masalah multi-objective, bukan single-objective (Minaei-Bidgoli et al., 2013)."
      ],
      "metadata": {
        "id": "YRE6fPs-MzlE"
      }
    },
    {
      "cell_type": "markdown",
      "source": [
        "Ada 4 tipe association rule dalam data mining yaitu (Rai, n.d.):\n",
        "* Multi-relational association rules <br>\n",
        "Sebuah class baru dari association ruels yang biasanya berasal dari database lain atau database multi-relational. Setiap rule dalam class ini memiliki 1 entity dengan relationship yang berbeda yang mewakilkan relationship tidak langsung antar entity\n",
        "* Generalized association rule <br>\n",
        "Banyak digunakan untuk mendapatkan ide kasar dari pattern yang menarik yang sering tersembunyi dalam data\n",
        "* Interval information association rule\n",
        "* Quantitative associative rule\n"
      ],
      "metadata": {
        "id": "sFoZERBw2Sq6"
      }
    },
    {
      "cell_type": "markdown",
      "source": [
        "3 Algoritma yang dapat digunakan untuk generate associate rules dalam data mining adalah Apriori, Eclat, dan FP-growth. Algoritma Apriori adalah pendekatan paling standar dalam association rules mining. Algoritma ini dimulai dengan dataset yang berisi transaksi dan bertujuan untuk membuat set item yang sering muncul. Dalam prosesnya, set item X dari panjang k adalah sering jika dan hanya jika setiap subset dari X memiliki panjang k 1 dan juga adalah sering. Pertimbangan ini menghasilkan pengurangan substansial ruang pencarian dan memungkinkan penemuan aturan dalam waktu yang layak secara komputasi. confidence adalah keakuratan aturan dan digunakan di Apriori untuk menentukan peringkat aturan (Nahar et al., 2013). Algoritma Eclat adalah akronim dari equivalence class clustering dan bottom up lattice traversal. Dalam Eclat, item yang sering muncul dihasilkan dengan memotong tid-list dari semua pasangan atom yang berbeda dan memeriksa kardinalitas tid-list yang dihasilkan. Algoritma FP-growth yang terkenal mengkompress database yang berisi item yang sering muncul ke dalam pohon pattern yang sering, dimana mempertahankan inofmrasi itemset association yang berguna (Yu & Wang, 2014).\n"
      ],
      "metadata": {
        "id": "Jn3Y5Oj1Ton-"
      }
    },
    {
      "cell_type": "markdown",
      "source": [
        "Contoh penerapan Association rules dalam dunia nyata adalah(Rai, n.d.):\n",
        "* Obat <br>\n",
        "Dokter dapat menggunakan Association Rules untuk membantu mendiagnosis pasien. Ada banyak variabel yang perlu dipertimbangkan saat membuat diagnosis, karena banyak penyakit memiliki gejala yang sama. Dengan menggunakan aturan asosiasi dan analisis data berbahan bakar pembelajaran mesin, dokter dapat menentukan probabilitas kondisional dari penyakit tertentu dengan membandingkan hubungan gejala dalam data dari kasus sebelumnya. Saat diagnosis baru dibuat, model pembelajaran mesin dapat mengadaptasi aturan untuk mencerminkan data yang diperbarui.\n",
        "* Retail <br>\n",
        "Pengecer dapat mengumpulkan data tentang pola pembelian, merekam data pembelian saat barcode item dipindai oleh sistem point-of-sale. Model pembelajaran mesin dapat mencari kemunculan bersama dalam data ini untuk menentukan produk mana yang kemungkinan besar akan dibeli bersama. Pengecer kemudian dapat menyesuaikan strategi pemasaran dan penjualan untuk memanfaatkan informasi ini.\n",
        "* UX Design <br>\n",
        "Developer dapat mengumpulkan data tentang bagaimana konsumen menggunakan situs web yang mereka buat. Mereka kemudian dapat menggunakan asosiasi dalam data untuk mengoptimalkan antarmuka pengguna situs web dengan menganalisis di mana pengguna cenderung mengklik dan apa yang memaksimalkan peluang mereka terlibat dengan ajakan bertindak.\n",
        "* Entertainment <br>\n",
        "Layanan seperti Netflix dan Spotify dapat menggunakan association rules untuk mendorong mesin rekomendasi konten mereka. Model pembelajaran mesin menganalisis data perilaku pengguna sebelumnya untuk mengetahui pola yang sering terjadi, mengembangkan aturan asosiasi, dan menggunakan aturan tersebut untuk merekomendasikan konten yang kemungkinan besar akan diikuti oleh pengguna, atau mengatur konten dengan cara yang cenderung menempatkan konten yang paling menarik untuk pengguna tertentu pertama.\n"
      ],
      "metadata": {
        "id": "ItPjV6cKaH_1"
      }
    },
    {
      "cell_type": "markdown",
      "source": [
        "Metode ini juga disebut Market Basket Analysis (Rerung, 2018). Tujuannya adalah untuk menemukan asosiasi dari item yang muncul bersamaan lebih sering daripada yang dibayangkan dari sampling random semua kemungkinan. Perumpaan yang paling sering dilihat adalah Beer and Diaper. Perumpamaan ini yang memudahkan untuk lebih memahami metode ini.(Rai, n.d.). "
      ],
      "metadata": {
        "id": "Ua5gS7Or6Yfu"
      }
    },
    {
      "cell_type": "markdown",
      "source": [
        "Ada 2 ukuran paling basic yang digunakan untuk mengukur association rules yaitu support dan confidence. Support dari sebuah item adalah berapa kali item tersebut muncul dalam transaksi dalam sebuah database (Kaur & Kang, 2016). Confidence merupakan derajat kekuatan dari association rule (Karthikeyan & Ravikumar, 2014). Selain kedua ukuran ini ada ukuran-ukuran lainnya yaitu lift, leverage dan conviction. Lift membantu menentukan tipe dari asosiasi antara antecedent dan consequent. Lift lebih besar dari 1 menunjukkan interdependence positif antara antecedent dan consequent, sedangkan kurang dari 1 menujukkan interdependence negatif (Das et al., 2018). Conviction mengukur kekuatan implikasi rule dari statistical independence. Conviction membandingkan probabilitas X muncul tanpa Y jika mereka adalah dependent dengan frekuensi aktual dari kemunculan X tanpa Y (Prajapati et al., 2017). Leverage merupakan selisih antara X dan Y muncul bersamaan dalam dataset dengan frekuensi yang diperkirakan jika X dan Y adalah dependent."
      ],
      "metadata": {
        "id": "1XGwL1_L61G2"
      }
    },
    {
      "cell_type": "markdown",
      "source": [
        "\n",
        "> Contoh code Association Rules Mining"
      ],
      "metadata": {
        "id": "U0VJp9vlbQeu"
      }
    },
    {
      "cell_type": "code",
      "source": [
        "#import library\n",
        "import pandas as pd\n",
        "import numpy as np\n",
        "from matplotlib import pyplot as plt"
      ],
      "metadata": {
        "id": "A8L5Q0FaiYG-"
      },
      "execution_count": 51,
      "outputs": []
    },
    {
      "cell_type": "markdown",
      "source": [
        "Dataset yang digunakan dalam code ini diambil dari link https://drive.google.com/file/d/1y5DYn0dGoSbC22xowBq2d4po6h1JxcTQ/view?usp=sharing. Pertama import dataset terlebih dahulu."
      ],
      "metadata": {
        "id": "BWbd7MK8bckY"
      }
    },
    {
      "cell_type": "code",
      "source": [
        "#import dataset\n",
        "url = \"https://raw.githubusercontent.com/feliciagraciella/DataMiningWeek9/main/store_data.csv\"\n",
        "df = pd.read_csv(url, header=None)\n",
        "df"
      ],
      "metadata": {
        "colab": {
          "base_uri": "https://localhost:8080/",
          "height": 554
        },
        "id": "ys3ZP_JSinEa",
        "outputId": "724eda8c-463a-4ce5-8393-8d1bdead852c"
      },
      "execution_count": 52,
      "outputs": [
        {
          "output_type": "execute_result",
          "data": {
            "text/plain": [
              "                 0                  1            2                 3   \\\n",
              "0            shrimp            almonds      avocado    vegetables mix   \n",
              "1           burgers          meatballs         eggs               NaN   \n",
              "2           chutney                NaN          NaN               NaN   \n",
              "3            turkey            avocado          NaN               NaN   \n",
              "4     mineral water               milk   energy bar  whole wheat rice   \n",
              "...             ...                ...          ...               ...   \n",
              "7496         butter         light mayo  fresh bread               NaN   \n",
              "7497        burgers  frozen vegetables         eggs      french fries   \n",
              "7498        chicken                NaN          NaN               NaN   \n",
              "7499       escalope          green tea          NaN               NaN   \n",
              "7500           eggs    frozen smoothie  yogurt cake    low fat yogurt   \n",
              "\n",
              "                4                 5     6               7             8   \\\n",
              "0     green grapes  whole weat flour  yams  cottage cheese  energy drink   \n",
              "1              NaN               NaN   NaN             NaN           NaN   \n",
              "2              NaN               NaN   NaN             NaN           NaN   \n",
              "3              NaN               NaN   NaN             NaN           NaN   \n",
              "4        green tea               NaN   NaN             NaN           NaN   \n",
              "...            ...               ...   ...             ...           ...   \n",
              "7496           NaN               NaN   NaN             NaN           NaN   \n",
              "7497     magazines         green tea   NaN             NaN           NaN   \n",
              "7498           NaN               NaN   NaN             NaN           NaN   \n",
              "7499           NaN               NaN   NaN             NaN           NaN   \n",
              "7500           NaN               NaN   NaN             NaN           NaN   \n",
              "\n",
              "                9               10         11     12     13             14  \\\n",
              "0     tomato juice  low fat yogurt  green tea  honey  salad  mineral water   \n",
              "1              NaN             NaN        NaN    NaN    NaN            NaN   \n",
              "2              NaN             NaN        NaN    NaN    NaN            NaN   \n",
              "3              NaN             NaN        NaN    NaN    NaN            NaN   \n",
              "4              NaN             NaN        NaN    NaN    NaN            NaN   \n",
              "...            ...             ...        ...    ...    ...            ...   \n",
              "7496           NaN             NaN        NaN    NaN    NaN            NaN   \n",
              "7497           NaN             NaN        NaN    NaN    NaN            NaN   \n",
              "7498           NaN             NaN        NaN    NaN    NaN            NaN   \n",
              "7499           NaN             NaN        NaN    NaN    NaN            NaN   \n",
              "7500           NaN             NaN        NaN    NaN    NaN            NaN   \n",
              "\n",
              "          15                 16               17       18         19  \n",
              "0     salmon  antioxydant juice  frozen smoothie  spinach  olive oil  \n",
              "1        NaN                NaN              NaN      NaN        NaN  \n",
              "2        NaN                NaN              NaN      NaN        NaN  \n",
              "3        NaN                NaN              NaN      NaN        NaN  \n",
              "4        NaN                NaN              NaN      NaN        NaN  \n",
              "...      ...                ...              ...      ...        ...  \n",
              "7496     NaN                NaN              NaN      NaN        NaN  \n",
              "7497     NaN                NaN              NaN      NaN        NaN  \n",
              "7498     NaN                NaN              NaN      NaN        NaN  \n",
              "7499     NaN                NaN              NaN      NaN        NaN  \n",
              "7500     NaN                NaN              NaN      NaN        NaN  \n",
              "\n",
              "[7501 rows x 20 columns]"
            ],
            "text/html": [
              "\n",
              "  <div id=\"df-e1159563-6dff-4f2e-ac63-8ed36c7cf80c\">\n",
              "    <div class=\"colab-df-container\">\n",
              "      <div>\n",
              "<style scoped>\n",
              "    .dataframe tbody tr th:only-of-type {\n",
              "        vertical-align: middle;\n",
              "    }\n",
              "\n",
              "    .dataframe tbody tr th {\n",
              "        vertical-align: top;\n",
              "    }\n",
              "\n",
              "    .dataframe thead th {\n",
              "        text-align: right;\n",
              "    }\n",
              "</style>\n",
              "<table border=\"1\" class=\"dataframe\">\n",
              "  <thead>\n",
              "    <tr style=\"text-align: right;\">\n",
              "      <th></th>\n",
              "      <th>0</th>\n",
              "      <th>1</th>\n",
              "      <th>2</th>\n",
              "      <th>3</th>\n",
              "      <th>4</th>\n",
              "      <th>5</th>\n",
              "      <th>6</th>\n",
              "      <th>7</th>\n",
              "      <th>8</th>\n",
              "      <th>9</th>\n",
              "      <th>10</th>\n",
              "      <th>11</th>\n",
              "      <th>12</th>\n",
              "      <th>13</th>\n",
              "      <th>14</th>\n",
              "      <th>15</th>\n",
              "      <th>16</th>\n",
              "      <th>17</th>\n",
              "      <th>18</th>\n",
              "      <th>19</th>\n",
              "    </tr>\n",
              "  </thead>\n",
              "  <tbody>\n",
              "    <tr>\n",
              "      <th>0</th>\n",
              "      <td>shrimp</td>\n",
              "      <td>almonds</td>\n",
              "      <td>avocado</td>\n",
              "      <td>vegetables mix</td>\n",
              "      <td>green grapes</td>\n",
              "      <td>whole weat flour</td>\n",
              "      <td>yams</td>\n",
              "      <td>cottage cheese</td>\n",
              "      <td>energy drink</td>\n",
              "      <td>tomato juice</td>\n",
              "      <td>low fat yogurt</td>\n",
              "      <td>green tea</td>\n",
              "      <td>honey</td>\n",
              "      <td>salad</td>\n",
              "      <td>mineral water</td>\n",
              "      <td>salmon</td>\n",
              "      <td>antioxydant juice</td>\n",
              "      <td>frozen smoothie</td>\n",
              "      <td>spinach</td>\n",
              "      <td>olive oil</td>\n",
              "    </tr>\n",
              "    <tr>\n",
              "      <th>1</th>\n",
              "      <td>burgers</td>\n",
              "      <td>meatballs</td>\n",
              "      <td>eggs</td>\n",
              "      <td>NaN</td>\n",
              "      <td>NaN</td>\n",
              "      <td>NaN</td>\n",
              "      <td>NaN</td>\n",
              "      <td>NaN</td>\n",
              "      <td>NaN</td>\n",
              "      <td>NaN</td>\n",
              "      <td>NaN</td>\n",
              "      <td>NaN</td>\n",
              "      <td>NaN</td>\n",
              "      <td>NaN</td>\n",
              "      <td>NaN</td>\n",
              "      <td>NaN</td>\n",
              "      <td>NaN</td>\n",
              "      <td>NaN</td>\n",
              "      <td>NaN</td>\n",
              "      <td>NaN</td>\n",
              "    </tr>\n",
              "    <tr>\n",
              "      <th>2</th>\n",
              "      <td>chutney</td>\n",
              "      <td>NaN</td>\n",
              "      <td>NaN</td>\n",
              "      <td>NaN</td>\n",
              "      <td>NaN</td>\n",
              "      <td>NaN</td>\n",
              "      <td>NaN</td>\n",
              "      <td>NaN</td>\n",
              "      <td>NaN</td>\n",
              "      <td>NaN</td>\n",
              "      <td>NaN</td>\n",
              "      <td>NaN</td>\n",
              "      <td>NaN</td>\n",
              "      <td>NaN</td>\n",
              "      <td>NaN</td>\n",
              "      <td>NaN</td>\n",
              "      <td>NaN</td>\n",
              "      <td>NaN</td>\n",
              "      <td>NaN</td>\n",
              "      <td>NaN</td>\n",
              "    </tr>\n",
              "    <tr>\n",
              "      <th>3</th>\n",
              "      <td>turkey</td>\n",
              "      <td>avocado</td>\n",
              "      <td>NaN</td>\n",
              "      <td>NaN</td>\n",
              "      <td>NaN</td>\n",
              "      <td>NaN</td>\n",
              "      <td>NaN</td>\n",
              "      <td>NaN</td>\n",
              "      <td>NaN</td>\n",
              "      <td>NaN</td>\n",
              "      <td>NaN</td>\n",
              "      <td>NaN</td>\n",
              "      <td>NaN</td>\n",
              "      <td>NaN</td>\n",
              "      <td>NaN</td>\n",
              "      <td>NaN</td>\n",
              "      <td>NaN</td>\n",
              "      <td>NaN</td>\n",
              "      <td>NaN</td>\n",
              "      <td>NaN</td>\n",
              "    </tr>\n",
              "    <tr>\n",
              "      <th>4</th>\n",
              "      <td>mineral water</td>\n",
              "      <td>milk</td>\n",
              "      <td>energy bar</td>\n",
              "      <td>whole wheat rice</td>\n",
              "      <td>green tea</td>\n",
              "      <td>NaN</td>\n",
              "      <td>NaN</td>\n",
              "      <td>NaN</td>\n",
              "      <td>NaN</td>\n",
              "      <td>NaN</td>\n",
              "      <td>NaN</td>\n",
              "      <td>NaN</td>\n",
              "      <td>NaN</td>\n",
              "      <td>NaN</td>\n",
              "      <td>NaN</td>\n",
              "      <td>NaN</td>\n",
              "      <td>NaN</td>\n",
              "      <td>NaN</td>\n",
              "      <td>NaN</td>\n",
              "      <td>NaN</td>\n",
              "    </tr>\n",
              "    <tr>\n",
              "      <th>...</th>\n",
              "      <td>...</td>\n",
              "      <td>...</td>\n",
              "      <td>...</td>\n",
              "      <td>...</td>\n",
              "      <td>...</td>\n",
              "      <td>...</td>\n",
              "      <td>...</td>\n",
              "      <td>...</td>\n",
              "      <td>...</td>\n",
              "      <td>...</td>\n",
              "      <td>...</td>\n",
              "      <td>...</td>\n",
              "      <td>...</td>\n",
              "      <td>...</td>\n",
              "      <td>...</td>\n",
              "      <td>...</td>\n",
              "      <td>...</td>\n",
              "      <td>...</td>\n",
              "      <td>...</td>\n",
              "      <td>...</td>\n",
              "    </tr>\n",
              "    <tr>\n",
              "      <th>7496</th>\n",
              "      <td>butter</td>\n",
              "      <td>light mayo</td>\n",
              "      <td>fresh bread</td>\n",
              "      <td>NaN</td>\n",
              "      <td>NaN</td>\n",
              "      <td>NaN</td>\n",
              "      <td>NaN</td>\n",
              "      <td>NaN</td>\n",
              "      <td>NaN</td>\n",
              "      <td>NaN</td>\n",
              "      <td>NaN</td>\n",
              "      <td>NaN</td>\n",
              "      <td>NaN</td>\n",
              "      <td>NaN</td>\n",
              "      <td>NaN</td>\n",
              "      <td>NaN</td>\n",
              "      <td>NaN</td>\n",
              "      <td>NaN</td>\n",
              "      <td>NaN</td>\n",
              "      <td>NaN</td>\n",
              "    </tr>\n",
              "    <tr>\n",
              "      <th>7497</th>\n",
              "      <td>burgers</td>\n",
              "      <td>frozen vegetables</td>\n",
              "      <td>eggs</td>\n",
              "      <td>french fries</td>\n",
              "      <td>magazines</td>\n",
              "      <td>green tea</td>\n",
              "      <td>NaN</td>\n",
              "      <td>NaN</td>\n",
              "      <td>NaN</td>\n",
              "      <td>NaN</td>\n",
              "      <td>NaN</td>\n",
              "      <td>NaN</td>\n",
              "      <td>NaN</td>\n",
              "      <td>NaN</td>\n",
              "      <td>NaN</td>\n",
              "      <td>NaN</td>\n",
              "      <td>NaN</td>\n",
              "      <td>NaN</td>\n",
              "      <td>NaN</td>\n",
              "      <td>NaN</td>\n",
              "    </tr>\n",
              "    <tr>\n",
              "      <th>7498</th>\n",
              "      <td>chicken</td>\n",
              "      <td>NaN</td>\n",
              "      <td>NaN</td>\n",
              "      <td>NaN</td>\n",
              "      <td>NaN</td>\n",
              "      <td>NaN</td>\n",
              "      <td>NaN</td>\n",
              "      <td>NaN</td>\n",
              "      <td>NaN</td>\n",
              "      <td>NaN</td>\n",
              "      <td>NaN</td>\n",
              "      <td>NaN</td>\n",
              "      <td>NaN</td>\n",
              "      <td>NaN</td>\n",
              "      <td>NaN</td>\n",
              "      <td>NaN</td>\n",
              "      <td>NaN</td>\n",
              "      <td>NaN</td>\n",
              "      <td>NaN</td>\n",
              "      <td>NaN</td>\n",
              "    </tr>\n",
              "    <tr>\n",
              "      <th>7499</th>\n",
              "      <td>escalope</td>\n",
              "      <td>green tea</td>\n",
              "      <td>NaN</td>\n",
              "      <td>NaN</td>\n",
              "      <td>NaN</td>\n",
              "      <td>NaN</td>\n",
              "      <td>NaN</td>\n",
              "      <td>NaN</td>\n",
              "      <td>NaN</td>\n",
              "      <td>NaN</td>\n",
              "      <td>NaN</td>\n",
              "      <td>NaN</td>\n",
              "      <td>NaN</td>\n",
              "      <td>NaN</td>\n",
              "      <td>NaN</td>\n",
              "      <td>NaN</td>\n",
              "      <td>NaN</td>\n",
              "      <td>NaN</td>\n",
              "      <td>NaN</td>\n",
              "      <td>NaN</td>\n",
              "    </tr>\n",
              "    <tr>\n",
              "      <th>7500</th>\n",
              "      <td>eggs</td>\n",
              "      <td>frozen smoothie</td>\n",
              "      <td>yogurt cake</td>\n",
              "      <td>low fat yogurt</td>\n",
              "      <td>NaN</td>\n",
              "      <td>NaN</td>\n",
              "      <td>NaN</td>\n",
              "      <td>NaN</td>\n",
              "      <td>NaN</td>\n",
              "      <td>NaN</td>\n",
              "      <td>NaN</td>\n",
              "      <td>NaN</td>\n",
              "      <td>NaN</td>\n",
              "      <td>NaN</td>\n",
              "      <td>NaN</td>\n",
              "      <td>NaN</td>\n",
              "      <td>NaN</td>\n",
              "      <td>NaN</td>\n",
              "      <td>NaN</td>\n",
              "      <td>NaN</td>\n",
              "    </tr>\n",
              "  </tbody>\n",
              "</table>\n",
              "<p>7501 rows × 20 columns</p>\n",
              "</div>\n",
              "      <button class=\"colab-df-convert\" onclick=\"convertToInteractive('df-e1159563-6dff-4f2e-ac63-8ed36c7cf80c')\"\n",
              "              title=\"Convert this dataframe to an interactive table.\"\n",
              "              style=\"display:none;\">\n",
              "        \n",
              "  <svg xmlns=\"http://www.w3.org/2000/svg\" height=\"24px\"viewBox=\"0 0 24 24\"\n",
              "       width=\"24px\">\n",
              "    <path d=\"M0 0h24v24H0V0z\" fill=\"none\"/>\n",
              "    <path d=\"M18.56 5.44l.94 2.06.94-2.06 2.06-.94-2.06-.94-.94-2.06-.94 2.06-2.06.94zm-11 1L8.5 8.5l.94-2.06 2.06-.94-2.06-.94L8.5 2.5l-.94 2.06-2.06.94zm10 10l.94 2.06.94-2.06 2.06-.94-2.06-.94-.94-2.06-.94 2.06-2.06.94z\"/><path d=\"M17.41 7.96l-1.37-1.37c-.4-.4-.92-.59-1.43-.59-.52 0-1.04.2-1.43.59L10.3 9.45l-7.72 7.72c-.78.78-.78 2.05 0 2.83L4 21.41c.39.39.9.59 1.41.59.51 0 1.02-.2 1.41-.59l7.78-7.78 2.81-2.81c.8-.78.8-2.07 0-2.86zM5.41 20L4 18.59l7.72-7.72 1.47 1.35L5.41 20z\"/>\n",
              "  </svg>\n",
              "      </button>\n",
              "      \n",
              "  <style>\n",
              "    .colab-df-container {\n",
              "      display:flex;\n",
              "      flex-wrap:wrap;\n",
              "      gap: 12px;\n",
              "    }\n",
              "\n",
              "    .colab-df-convert {\n",
              "      background-color: #E8F0FE;\n",
              "      border: none;\n",
              "      border-radius: 50%;\n",
              "      cursor: pointer;\n",
              "      display: none;\n",
              "      fill: #1967D2;\n",
              "      height: 32px;\n",
              "      padding: 0 0 0 0;\n",
              "      width: 32px;\n",
              "    }\n",
              "\n",
              "    .colab-df-convert:hover {\n",
              "      background-color: #E2EBFA;\n",
              "      box-shadow: 0px 1px 2px rgba(60, 64, 67, 0.3), 0px 1px 3px 1px rgba(60, 64, 67, 0.15);\n",
              "      fill: #174EA6;\n",
              "    }\n",
              "\n",
              "    [theme=dark] .colab-df-convert {\n",
              "      background-color: #3B4455;\n",
              "      fill: #D2E3FC;\n",
              "    }\n",
              "\n",
              "    [theme=dark] .colab-df-convert:hover {\n",
              "      background-color: #434B5C;\n",
              "      box-shadow: 0px 1px 3px 1px rgba(0, 0, 0, 0.15);\n",
              "      filter: drop-shadow(0px 1px 2px rgba(0, 0, 0, 0.3));\n",
              "      fill: #FFFFFF;\n",
              "    }\n",
              "  </style>\n",
              "\n",
              "      <script>\n",
              "        const buttonEl =\n",
              "          document.querySelector('#df-e1159563-6dff-4f2e-ac63-8ed36c7cf80c button.colab-df-convert');\n",
              "        buttonEl.style.display =\n",
              "          google.colab.kernel.accessAllowed ? 'block' : 'none';\n",
              "\n",
              "        async function convertToInteractive(key) {\n",
              "          const element = document.querySelector('#df-e1159563-6dff-4f2e-ac63-8ed36c7cf80c');\n",
              "          const dataTable =\n",
              "            await google.colab.kernel.invokeFunction('convertToInteractive',\n",
              "                                                     [key], {});\n",
              "          if (!dataTable) return;\n",
              "\n",
              "          const docLinkHtml = 'Like what you see? Visit the ' +\n",
              "            '<a target=\"_blank\" href=https://colab.research.google.com/notebooks/data_table.ipynb>data table notebook</a>'\n",
              "            + ' to learn more about interactive tables.';\n",
              "          element.innerHTML = '';\n",
              "          dataTable['output_type'] = 'display_data';\n",
              "          await google.colab.output.renderOutput(dataTable, element);\n",
              "          const docLink = document.createElement('div');\n",
              "          docLink.innerHTML = docLinkHtml;\n",
              "          element.appendChild(docLink);\n",
              "        }\n",
              "      </script>\n",
              "    </div>\n",
              "  </div>\n",
              "  "
            ]
          },
          "metadata": {},
          "execution_count": 52
        }
      ]
    },
    {
      "cell_type": "markdown",
      "source": [
        "Karena tiap item dalam dataset terpisah dalam kolom yang berbeda, maka code ini digunakan untuk menyatukan item dalam rows yang sama."
      ],
      "metadata": {
        "id": "l4JmTbz1cT2-"
      }
    },
    {
      "cell_type": "code",
      "source": [
        "#menyatukan value tiap rows\n",
        "records = []\n",
        "for i in range(0, 7501):\n",
        "    records.append([str(df.values[i,j]) for j in range(0, 20)])"
      ],
      "metadata": {
        "id": "x0AfrtaoizKo"
      },
      "execution_count": 53,
      "outputs": []
    },
    {
      "cell_type": "markdown",
      "source": [
        "Code ini digunakan untuk melihat ada item apa saja dalam dataset ini dan ada berapa jumlahnya."
      ],
      "metadata": {
        "id": "TmFI6B0lceBN"
      }
    },
    {
      "cell_type": "code",
      "source": [
        "#cek ada berapa unique values\n",
        "record = []\n",
        "for i in range(0, 7501):\n",
        "  for j in range(0, 20) :\n",
        "    record.append(str(df.values[i,j]))\n",
        "\n",
        "unique_list = []\n",
        " \n",
        "for x in record:\n",
        "    if x not in unique_list:\n",
        "        unique_list.append(x)\n",
        "\n",
        "print(unique_list)\n",
        "len(unique_list)"
      ],
      "metadata": {
        "colab": {
          "base_uri": "https://localhost:8080/",
          "height": 0
        },
        "id": "UIHa4u-ZIYDY",
        "outputId": "c79246b4-9f4c-416a-c4c3-1a5f607ee3ff"
      },
      "execution_count": 54,
      "outputs": [
        {
          "output_type": "stream",
          "name": "stdout",
          "text": [
            "['shrimp', 'almonds', 'avocado', 'vegetables mix', 'green grapes', 'whole weat flour', 'yams', 'cottage cheese', 'energy drink', 'tomato juice', 'low fat yogurt', 'green tea', 'honey', 'salad', 'mineral water', 'salmon', 'antioxydant juice', 'frozen smoothie', 'spinach', 'olive oil', 'burgers', 'meatballs', 'eggs', 'nan', 'chutney', 'turkey', 'milk', 'energy bar', 'whole wheat rice', 'whole wheat pasta', 'french fries', 'soup', 'light cream', 'shallot', 'frozen vegetables', 'spaghetti', 'pet food', 'cookies', 'cooking oil', 'champagne', 'chocolate', 'chicken', 'oil', 'fresh tuna', 'tomatoes', 'black tea', 'extra dark chocolate', 'protein bar', 'red wine', 'pasta', 'pepper', 'shampoo', 'rice', 'sparkling water', 'ham', 'body spray', 'pancakes', 'grated cheese', 'white wine', 'toothpaste', 'parmesan cheese', 'fresh bread', 'ground beef', 'escalope', 'herb & pepper', 'tomato sauce', 'magazines', 'strawberries', 'strong cheese', 'pickles', 'cake', 'hot dogs', 'brownies', 'cereals', 'clothes accessories', 'bug spray', 'muffins', 'light mayo', 'gums', 'soda', 'cider', 'corn', 'yogurt cake', 'mint', 'butter', 'asparagus', 'french wine', 'salt', 'tea', 'barbecue sauce', 'mayonnaise', 'zucchini', 'carrots', 'mushroom cream sauce', 'candy bars', 'chili', 'mashed potato', 'nonfat milk', 'water spray', 'chocolate bread', 'mint green tea', 'eggplant', 'blueberries', 'bacon', 'fromage blanc', 'gluten free bar', 'dessert wine', 'flax seed', 'hand protein bar', 'sandwich', 'babies food', 'melons', 'cauliflower', 'green beans', 'ketchup', 'bramble', 'burger sauce', 'oatmeal', ' asparagus', 'cream', 'napkins']\n"
          ]
        },
        {
          "output_type": "execute_result",
          "data": {
            "text/plain": [
              "121"
            ]
          },
          "metadata": {},
          "execution_count": 54
        }
      ]
    },
    {
      "cell_type": "code",
      "source": [
        "#import library\n",
        "import mlxtend\n",
        "from mlxtend.preprocessing import TransactionEncoder\n",
        "from mlxtend.frequent_patterns import association_rules, apriori"
      ],
      "metadata": {
        "id": "EaH7FZA3qnWZ"
      },
      "execution_count": 55,
      "outputs": []
    },
    {
      "cell_type": "markdown",
      "source": [
        "Modul Apriori memerlukan data frame dengan value 0 dan 1 atau True dan False. Digunakan Encoder agar memenuhi syarat dari modul apriori yang ada dalam library mlxtend. Setelah di encode Data dimasukkan dalam data frame."
      ],
      "metadata": {
        "id": "v0PSMNlTdA--"
      }
    },
    {
      "cell_type": "code",
      "source": [
        "#encode\n",
        "trans_encoding = TransactionEncoder()\n",
        "df2 = trans_encoding.fit(records).transform(records)\n",
        "df3 = pd.DataFrame(df2, columns=trans_encoding.columns_)"
      ],
      "metadata": {
        "id": "ehILzcDkjdGS"
      },
      "execution_count": 56,
      "outputs": []
    },
    {
      "cell_type": "markdown",
      "source": [
        "Terdapat kolom nan karena ada pembeli yang tidak membeli barang tertentu. Oleh karena itu kolom nan di drop."
      ],
      "metadata": {
        "id": "_nHapiVKejYT"
      }
    },
    {
      "cell_type": "code",
      "source": [
        "#drop kolom nan\n",
        "df3 = df3.drop(columns=['nan'])"
      ],
      "metadata": {
        "id": "g-fPOM3zqOP4"
      },
      "execution_count": 57,
      "outputs": []
    },
    {
      "cell_type": "markdown",
      "source": [
        "Digunakan min_support 0.05 yang support minimum yang dibutuhkan untuk sebuah itemset agar terpilih. use_colnames = True digunakan untuk menyimpan nama kolom agar lebih mudah dipahami."
      ],
      "metadata": {
        "id": "-WspwB2xet5E"
      }
    },
    {
      "cell_type": "code",
      "source": [
        "# Algoritma Apriori\n",
        "frequent_set = apriori(df3, min_support = 0.05, use_colnames = True)"
      ],
      "metadata": {
        "id": "QnLR_9o7qbyF"
      },
      "execution_count": 58,
      "outputs": []
    },
    {
      "cell_type": "markdown",
      "source": [
        "Dari frequent sets, dicari association rules yang menunjukkan jika A dibeli, maka B juga dibeli. "
      ],
      "metadata": {
        "id": "rbNE-mkwfKjg"
      }
    },
    {
      "cell_type": "code",
      "source": [
        "# Perhitungan Association rules\n",
        "rules = association_rules(frequent_set, metric = 'lift', min_threshold = 1)\n",
        "rules"
      ],
      "metadata": {
        "colab": {
          "base_uri": "https://localhost:8080/",
          "height": 237
        },
        "id": "V_3xKaLiqwNG",
        "outputId": "49f24b77-a129-4f2b-c76a-4ed098bcc2e9"
      },
      "execution_count": 59,
      "outputs": [
        {
          "output_type": "execute_result",
          "data": {
            "text/plain": [
              "       antecedents      consequents  antecedent support  consequent support  \\\n",
              "0  (mineral water)      (chocolate)            0.238368            0.163845   \n",
              "1      (chocolate)  (mineral water)            0.163845            0.238368   \n",
              "2  (mineral water)           (eggs)            0.238368            0.179709   \n",
              "3           (eggs)  (mineral water)            0.179709            0.238368   \n",
              "4  (mineral water)      (spaghetti)            0.238368            0.174110   \n",
              "5      (spaghetti)  (mineral water)            0.174110            0.238368   \n",
              "\n",
              "    support  confidence      lift  leverage  conviction  \n",
              "0  0.052660    0.220917  1.348332  0.013604    1.073256  \n",
              "1  0.052660    0.321400  1.348332  0.013604    1.122357  \n",
              "2  0.050927    0.213647  1.188845  0.008090    1.043158  \n",
              "3  0.050927    0.283383  1.188845  0.008090    1.062815  \n",
              "4  0.059725    0.250559  1.439085  0.018223    1.102008  \n",
              "5  0.059725    0.343032  1.439085  0.018223    1.159314  "
            ],
            "text/html": [
              "\n",
              "  <div id=\"df-359be6ea-b087-4286-83d4-43c7795292bc\">\n",
              "    <div class=\"colab-df-container\">\n",
              "      <div>\n",
              "<style scoped>\n",
              "    .dataframe tbody tr th:only-of-type {\n",
              "        vertical-align: middle;\n",
              "    }\n",
              "\n",
              "    .dataframe tbody tr th {\n",
              "        vertical-align: top;\n",
              "    }\n",
              "\n",
              "    .dataframe thead th {\n",
              "        text-align: right;\n",
              "    }\n",
              "</style>\n",
              "<table border=\"1\" class=\"dataframe\">\n",
              "  <thead>\n",
              "    <tr style=\"text-align: right;\">\n",
              "      <th></th>\n",
              "      <th>antecedents</th>\n",
              "      <th>consequents</th>\n",
              "      <th>antecedent support</th>\n",
              "      <th>consequent support</th>\n",
              "      <th>support</th>\n",
              "      <th>confidence</th>\n",
              "      <th>lift</th>\n",
              "      <th>leverage</th>\n",
              "      <th>conviction</th>\n",
              "    </tr>\n",
              "  </thead>\n",
              "  <tbody>\n",
              "    <tr>\n",
              "      <th>0</th>\n",
              "      <td>(mineral water)</td>\n",
              "      <td>(chocolate)</td>\n",
              "      <td>0.238368</td>\n",
              "      <td>0.163845</td>\n",
              "      <td>0.052660</td>\n",
              "      <td>0.220917</td>\n",
              "      <td>1.348332</td>\n",
              "      <td>0.013604</td>\n",
              "      <td>1.073256</td>\n",
              "    </tr>\n",
              "    <tr>\n",
              "      <th>1</th>\n",
              "      <td>(chocolate)</td>\n",
              "      <td>(mineral water)</td>\n",
              "      <td>0.163845</td>\n",
              "      <td>0.238368</td>\n",
              "      <td>0.052660</td>\n",
              "      <td>0.321400</td>\n",
              "      <td>1.348332</td>\n",
              "      <td>0.013604</td>\n",
              "      <td>1.122357</td>\n",
              "    </tr>\n",
              "    <tr>\n",
              "      <th>2</th>\n",
              "      <td>(mineral water)</td>\n",
              "      <td>(eggs)</td>\n",
              "      <td>0.238368</td>\n",
              "      <td>0.179709</td>\n",
              "      <td>0.050927</td>\n",
              "      <td>0.213647</td>\n",
              "      <td>1.188845</td>\n",
              "      <td>0.008090</td>\n",
              "      <td>1.043158</td>\n",
              "    </tr>\n",
              "    <tr>\n",
              "      <th>3</th>\n",
              "      <td>(eggs)</td>\n",
              "      <td>(mineral water)</td>\n",
              "      <td>0.179709</td>\n",
              "      <td>0.238368</td>\n",
              "      <td>0.050927</td>\n",
              "      <td>0.283383</td>\n",
              "      <td>1.188845</td>\n",
              "      <td>0.008090</td>\n",
              "      <td>1.062815</td>\n",
              "    </tr>\n",
              "    <tr>\n",
              "      <th>4</th>\n",
              "      <td>(mineral water)</td>\n",
              "      <td>(spaghetti)</td>\n",
              "      <td>0.238368</td>\n",
              "      <td>0.174110</td>\n",
              "      <td>0.059725</td>\n",
              "      <td>0.250559</td>\n",
              "      <td>1.439085</td>\n",
              "      <td>0.018223</td>\n",
              "      <td>1.102008</td>\n",
              "    </tr>\n",
              "    <tr>\n",
              "      <th>5</th>\n",
              "      <td>(spaghetti)</td>\n",
              "      <td>(mineral water)</td>\n",
              "      <td>0.174110</td>\n",
              "      <td>0.238368</td>\n",
              "      <td>0.059725</td>\n",
              "      <td>0.343032</td>\n",
              "      <td>1.439085</td>\n",
              "      <td>0.018223</td>\n",
              "      <td>1.159314</td>\n",
              "    </tr>\n",
              "  </tbody>\n",
              "</table>\n",
              "</div>\n",
              "      <button class=\"colab-df-convert\" onclick=\"convertToInteractive('df-359be6ea-b087-4286-83d4-43c7795292bc')\"\n",
              "              title=\"Convert this dataframe to an interactive table.\"\n",
              "              style=\"display:none;\">\n",
              "        \n",
              "  <svg xmlns=\"http://www.w3.org/2000/svg\" height=\"24px\"viewBox=\"0 0 24 24\"\n",
              "       width=\"24px\">\n",
              "    <path d=\"M0 0h24v24H0V0z\" fill=\"none\"/>\n",
              "    <path d=\"M18.56 5.44l.94 2.06.94-2.06 2.06-.94-2.06-.94-.94-2.06-.94 2.06-2.06.94zm-11 1L8.5 8.5l.94-2.06 2.06-.94-2.06-.94L8.5 2.5l-.94 2.06-2.06.94zm10 10l.94 2.06.94-2.06 2.06-.94-2.06-.94-.94-2.06-.94 2.06-2.06.94z\"/><path d=\"M17.41 7.96l-1.37-1.37c-.4-.4-.92-.59-1.43-.59-.52 0-1.04.2-1.43.59L10.3 9.45l-7.72 7.72c-.78.78-.78 2.05 0 2.83L4 21.41c.39.39.9.59 1.41.59.51 0 1.02-.2 1.41-.59l7.78-7.78 2.81-2.81c.8-.78.8-2.07 0-2.86zM5.41 20L4 18.59l7.72-7.72 1.47 1.35L5.41 20z\"/>\n",
              "  </svg>\n",
              "      </button>\n",
              "      \n",
              "  <style>\n",
              "    .colab-df-container {\n",
              "      display:flex;\n",
              "      flex-wrap:wrap;\n",
              "      gap: 12px;\n",
              "    }\n",
              "\n",
              "    .colab-df-convert {\n",
              "      background-color: #E8F0FE;\n",
              "      border: none;\n",
              "      border-radius: 50%;\n",
              "      cursor: pointer;\n",
              "      display: none;\n",
              "      fill: #1967D2;\n",
              "      height: 32px;\n",
              "      padding: 0 0 0 0;\n",
              "      width: 32px;\n",
              "    }\n",
              "\n",
              "    .colab-df-convert:hover {\n",
              "      background-color: #E2EBFA;\n",
              "      box-shadow: 0px 1px 2px rgba(60, 64, 67, 0.3), 0px 1px 3px 1px rgba(60, 64, 67, 0.15);\n",
              "      fill: #174EA6;\n",
              "    }\n",
              "\n",
              "    [theme=dark] .colab-df-convert {\n",
              "      background-color: #3B4455;\n",
              "      fill: #D2E3FC;\n",
              "    }\n",
              "\n",
              "    [theme=dark] .colab-df-convert:hover {\n",
              "      background-color: #434B5C;\n",
              "      box-shadow: 0px 1px 3px 1px rgba(0, 0, 0, 0.15);\n",
              "      filter: drop-shadow(0px 1px 2px rgba(0, 0, 0, 0.3));\n",
              "      fill: #FFFFFF;\n",
              "    }\n",
              "  </style>\n",
              "\n",
              "      <script>\n",
              "        const buttonEl =\n",
              "          document.querySelector('#df-359be6ea-b087-4286-83d4-43c7795292bc button.colab-df-convert');\n",
              "        buttonEl.style.display =\n",
              "          google.colab.kernel.accessAllowed ? 'block' : 'none';\n",
              "\n",
              "        async function convertToInteractive(key) {\n",
              "          const element = document.querySelector('#df-359be6ea-b087-4286-83d4-43c7795292bc');\n",
              "          const dataTable =\n",
              "            await google.colab.kernel.invokeFunction('convertToInteractive',\n",
              "                                                     [key], {});\n",
              "          if (!dataTable) return;\n",
              "\n",
              "          const docLinkHtml = 'Like what you see? Visit the ' +\n",
              "            '<a target=\"_blank\" href=https://colab.research.google.com/notebooks/data_table.ipynb>data table notebook</a>'\n",
              "            + ' to learn more about interactive tables.';\n",
              "          element.innerHTML = '';\n",
              "          dataTable['output_type'] = 'display_data';\n",
              "          await google.colab.output.renderOutput(dataTable, element);\n",
              "          const docLink = document.createElement('div');\n",
              "          docLink.innerHTML = docLinkHtml;\n",
              "          element.appendChild(docLink);\n",
              "        }\n",
              "      </script>\n",
              "    </div>\n",
              "  </div>\n",
              "  "
            ]
          },
          "metadata": {},
          "execution_count": 59
        }
      ]
    },
    {
      "cell_type": "markdown",
      "source": [
        "**References** <br>\n",
        "Ratner, B. (2017). Statistical and machine-learning data mining:: Techniques for better predictive modeling and analysis of big data. CRC Press. <br>\n",
        "Fauzy, M., Saleh W, K. R., & Asror, I. (2016). Penerapan Metode Association Rule Menggunakan. Jurnal Ilmiah Teknologi Informasi Terapan, II(2), 221–227. <br>\n",
        "Moradi, M., & Keyvanpour, M. R. (2015). An analytical review of XML association rules mining. Artificial Intelligence Review, 43(2), 277-300. https://doi.org/10.1007/s10462-012-9376-5 <br>\n",
        "Rerung, R. R. (2018). Penerapan Data Mining dengan Memanfaatkan Metode Association Rule untuk Promosi Produk. Jurnal Teknologi Rekayasa, 3(1), 89. https://doi.org/10.31544/jtera.v3.i1.2018.89-98 <br>\n",
        "Nahar, J., Imam, T., Tickle, K. S., & Chen, Y. P. P. (2013). Association rule mining to detect factors which contribute to heart disease in males and females. Expert Systems with Applications, 40(4), 1086–1093. https://doi.org/10.1016/j.eswa.2012.08.028 <br>\n",
        "Minaei-Bidgoli, B., Barmaki, R., & Nasiri, M. (2013). Mining numerical association rules via multi-objective genetic algorithms. Information Sciences, 233, 15–24. https://doi.org/10.1016/j.ins.2013.01.028 <br>\n",
        "Kaur, M., & Kang, S. (2016). Market Basket Analysis: Identify the Changing Trends of Market Data Using Association Rule Mining. Procedia Computer Science, 85(Cms), 78–85. https://doi.org/10.1016/j.procs.2016.05.180 <br>\n",
        "Das, S., Dutta, A., Jalayer, M., Bibeka, A., & Wu, L. (2018). Factors influencing the patterns of wrong-way driving crashes on freeway exit ramps and median crossovers: Exploration using ‘Eclat’ association rules to promote safety. International Journal of Transportation Science and Technology, 7(2), 114–123. https://doi.org/10.1016/j.ijtst.2018.02.001 <br>\n",
        "Prajapati, D. J., Garg, S., & Chauhan, N. C. (2017). Interesting association rule mining with consistent and inconsistent rule detection from big sales data in distributed environment. Future Computing and Informatics Journal, 2(1), 19–30. https://doi.org/10.1016/j.fcij.2017.04.003 <br>\n",
        "Karthikeyan, T., & Ravikumar, N. (2014). A survey on association rule mining. International Conference on Advanced Computing and Communication Technologies, 3(1), 5223–5227. https://doi.org/10.1109/ACCT.2015.69 <br>\n",
        "Yu, X., & Wang, H. (2014). Improvement of Eclat Algorithm Based on Support in Frequent Itemset Mining. Journal of Computers, 9(9), 2116–2123. https://doi.org/10.4304/jcp.9.9.2116-2123 <br>\n",
        "Rai, A. (n.d.). Association rule mining: An overview and its applications. UpGrad Blog. Retrieved November 13, 2022, from https://www.upgrad.com/blog/association-rule-mining-an-overview-and-its-applications/ <br>\n",
        "Malik, U. (n.d.). Association Rule Mining via Apriori Algorithm in Python. Stack Abuse. https://stackabuse.com/association-rule-mining-via-apriori-algorithm-in-python/\n",
        "\n"
      ],
      "metadata": {
        "id": "hw9J1d1Lxz82"
      }
    }
  ]
}